{
 "cells": [
  {
   "cell_type": "code",
   "execution_count": 8,
   "id": "1c4ad5b4",
   "metadata": {},
   "outputs": [],
   "source": [
    "import pandas as pd\n",
    "import numpy as np\n",
    "from sklearn.ensemble import GradientBoostingRegressor\n",
    "from sklearn.metrics import mean_absolute_error\n",
    "from sklearn.model_selection import train_test_split\n",
    "import warnings\n",
    "warnings.filterwarnings(\"ignore\", category=UserWarning)"
   ]
  },
  {
   "cell_type": "code",
   "execution_count": 9,
   "id": "511c0011",
   "metadata": {},
   "outputs": [],
   "source": [
    "import json\n",
    "\n",
    "\n",
    "\n",
    "\n",
    "with open('public_cases.json', 'r') as f:\n",
    "    data_json = json.load(f)\n",
    "\n",
    "df = pd.DataFrame(data_json)"
   ]
  },
  {
   "cell_type": "code",
   "execution_count": 3,
   "id": "9608dada",
   "metadata": {},
   "outputs": [
    {
     "data": {
      "text/html": [
       "<div>\n",
       "<style scoped>\n",
       "    .dataframe tbody tr th:only-of-type {\n",
       "        vertical-align: middle;\n",
       "    }\n",
       "\n",
       "    .dataframe tbody tr th {\n",
       "        vertical-align: top;\n",
       "    }\n",
       "\n",
       "    .dataframe thead th {\n",
       "        text-align: right;\n",
       "    }\n",
       "</style>\n",
       "<table border=\"1\" class=\"dataframe\">\n",
       "  <thead>\n",
       "    <tr style=\"text-align: right;\">\n",
       "      <th></th>\n",
       "      <th>input</th>\n",
       "      <th>expected_output</th>\n",
       "    </tr>\n",
       "  </thead>\n",
       "  <tbody>\n",
       "    <tr>\n",
       "      <th>0</th>\n",
       "      <td>{'trip_duration_days': 3, 'miles_traveled': 93...</td>\n",
       "      <td>364.51</td>\n",
       "    </tr>\n",
       "    <tr>\n",
       "      <th>1</th>\n",
       "      <td>{'trip_duration_days': 1, 'miles_traveled': 55...</td>\n",
       "      <td>126.06</td>\n",
       "    </tr>\n",
       "    <tr>\n",
       "      <th>2</th>\n",
       "      <td>{'trip_duration_days': 1, 'miles_traveled': 47...</td>\n",
       "      <td>128.91</td>\n",
       "    </tr>\n",
       "    <tr>\n",
       "      <th>3</th>\n",
       "      <td>{'trip_duration_days': 2, 'miles_traveled': 13...</td>\n",
       "      <td>203.52</td>\n",
       "    </tr>\n",
       "    <tr>\n",
       "      <th>4</th>\n",
       "      <td>{'trip_duration_days': 3, 'miles_traveled': 88...</td>\n",
       "      <td>380.37</td>\n",
       "    </tr>\n",
       "    <tr>\n",
       "      <th>...</th>\n",
       "      <td>...</td>\n",
       "      <td>...</td>\n",
       "    </tr>\n",
       "    <tr>\n",
       "      <th>995</th>\n",
       "      <td>{'trip_duration_days': 1, 'miles_traveled': 10...</td>\n",
       "      <td>446.94</td>\n",
       "    </tr>\n",
       "    <tr>\n",
       "      <th>996</th>\n",
       "      <td>{'trip_duration_days': 11, 'miles_traveled': 6...</td>\n",
       "      <td>1699.94</td>\n",
       "    </tr>\n",
       "    <tr>\n",
       "      <th>997</th>\n",
       "      <td>{'trip_duration_days': 6, 'miles_traveled': 37...</td>\n",
       "      <td>946.39</td>\n",
       "    </tr>\n",
       "    <tr>\n",
       "      <th>998</th>\n",
       "      <td>{'trip_duration_days': 8, 'miles_traveled': 41...</td>\n",
       "      <td>802.95</td>\n",
       "    </tr>\n",
       "    <tr>\n",
       "      <th>999</th>\n",
       "      <td>{'trip_duration_days': 3, 'miles_traveled': 39...</td>\n",
       "      <td>546.04</td>\n",
       "    </tr>\n",
       "  </tbody>\n",
       "</table>\n",
       "<p>1000 rows × 2 columns</p>\n",
       "</div>"
      ],
      "text/plain": [
       "                                                 input  expected_output\n",
       "0    {'trip_duration_days': 3, 'miles_traveled': 93...           364.51\n",
       "1    {'trip_duration_days': 1, 'miles_traveled': 55...           126.06\n",
       "2    {'trip_duration_days': 1, 'miles_traveled': 47...           128.91\n",
       "3    {'trip_duration_days': 2, 'miles_traveled': 13...           203.52\n",
       "4    {'trip_duration_days': 3, 'miles_traveled': 88...           380.37\n",
       "..                                                 ...              ...\n",
       "995  {'trip_duration_days': 1, 'miles_traveled': 10...           446.94\n",
       "996  {'trip_duration_days': 11, 'miles_traveled': 6...          1699.94\n",
       "997  {'trip_duration_days': 6, 'miles_traveled': 37...           946.39\n",
       "998  {'trip_duration_days': 8, 'miles_traveled': 41...           802.95\n",
       "999  {'trip_duration_days': 3, 'miles_traveled': 39...           546.04\n",
       "\n",
       "[1000 rows x 2 columns]"
      ]
     },
     "execution_count": 3,
     "metadata": {},
     "output_type": "execute_result"
    }
   ],
   "source": [
    "df"
   ]
  },
  {
   "cell_type": "code",
   "execution_count": 10,
   "id": "8aa974a6",
   "metadata": {},
   "outputs": [],
   "source": [
    "# --- Feature Engineering ---\n",
    "def feature_engineering(df):\n",
    "    # Basic features\n",
    "    df['miles_per_day'] = df['miles'] / df['days'].replace(0, 1)  # avoid div by zero\n",
    "    df['spending_per_day'] = df['receipts'] / df['days'].replace(0, 1)\n",
    "\n",
    "    # Flag for \"sweet spot combo\" (Kevin's insight)\n",
    "    df['sweet_spot'] = ((df['days'] == 5) & \n",
    "                        (df['miles_per_day'] >= 180) & (df['miles_per_day'] <= 220) & \n",
    "                        (df['spending_per_day'] <= 100)).astype(int)\n",
    "\n",
    "    # Flag for \"vacation penalty\"\n",
    "    df['vacation_penalty'] = ((df['days'] >= 8) & (df['spending_per_day'] > 90)).astype(int)\n",
    "\n",
    "    # You can add more flags based on interview insights if you want\n",
    "\n",
    "    return df\n",
    "\n",
    "# --- Simulated dataset for demonstration ---\n",
    "np.random.seed(42)\n",
    "n_samples = 1000\n",
    "days = np.random.randint(1, 15, size=n_samples)\n",
    "miles = np.random.randint(10, 1000, size=n_samples)\n",
    "receipts = np.random.uniform(0, 1500, size=n_samples)\n"
   ]
  },
  {
   "cell_type": "code",
   "execution_count": 11,
   "id": "80f148f4",
   "metadata": {},
   "outputs": [],
   "source": [
    "\n",
    "# Create DataFrame\n",
    "data = pd.DataFrame({\n",
    "    'days': days,\n",
    "    'miles': miles,\n",
    "    'receipts': receipts\n",
    "})\n",
    "\n",
    "# Simulated target: Let's create a mock function reflecting some business logic with noise & quirks\n",
    "def legacy_system_simulation(row):\n",
    "    base = 50 * row['days'] + 0.5 * row['miles'] + 0.7 * row['receipts']\n",
    "    # Apply \"sweet spot\" bonus\n",
    "    if 180 <= row['miles']/max(row['days'],1) <= 220 and row['days'] == 5 and (row['receipts']/max(row['days'],1)) <= 100:\n",
    "        base *= 1.15\n",
    "    # Apply \"vacation penalty\"\n",
    "    if row['days'] >= 8 and (row['receipts']/max(row['days'],1)) > 90:\n",
    "        base *= 0.85\n",
    "    # Add some noise mimicking randomness/bugs\n",
    "    noise = np.random.normal(0, 25)\n",
    "    return base + noise\n",
    "\n",
    "data['reimbursement'] = data.apply(legacy_system_simulation, axis=1)"
   ]
  },
  {
   "cell_type": "code",
   "execution_count": 6,
   "id": "4c51baa7",
   "metadata": {},
   "outputs": [
    {
     "name": "stdout",
     "output_type": "stream",
     "text": [
      "Mean Absolute Error on test data: $36.29\n"
     ]
    }
   ],
   "source": [
    "\n",
    "\n",
    "\n",
    "# --- Prepare features ---\n",
    "data = feature_engineering(data)\n",
    "\n",
    "features = ['days', 'miles', 'receipts', 'miles_per_day', 'spending_per_day', 'sweet_spot', 'vacation_penalty']\n",
    "X = data[features]\n",
    "y = data['reimbursement']\n",
    "\n",
    "# --- Split data ---\n",
    "X_train, X_test, y_train, y_test = train_test_split(X, y, test_size=0.2, random_state=42)\n",
    "\n",
    "# --- Train Gradient Boosting Regressor ---\n",
    "model = GradientBoostingRegressor(n_estimators=200, max_depth=5, learning_rate=0.1, random_state=42)\n",
    "model.fit(X_train, y_train)\n",
    "\n",
    "# --- Evaluate ---\n",
    "y_pred = model.predict(X_test)\n",
    "mae = mean_absolute_error(y_test, y_pred)\n",
    "print(f\"Mean Absolute Error on test data: ${mae:.2f}\")\n",
    "\n",
    "# --- Example prediction ---\n",
    "\n"
   ]
  },
  {
   "cell_type": "code",
   "execution_count": 12,
   "id": "7d86eed7",
   "metadata": {},
   "outputs": [
    {
     "data": {
      "text/plain": [
       "['reimbursement_model.pkl']"
      ]
     },
     "execution_count": 12,
     "metadata": {},
     "output_type": "execute_result"
    }
   ],
   "source": [
    "# In your Jupyter notebook cell\n",
    "import joblib\n",
    "\n",
    "# Assume `model` is your trained model\n",
    "joblib.dump(model, 'reimbursement_model.pkl')\n"
   ]
  },
  {
   "cell_type": "code",
   "execution_count": 3,
   "id": "5202087a",
   "metadata": {},
   "outputs": [],
   "source": [
    "import pandas as pd\n",
    "import numpy as np\n",
    "from sklearn.ensemble import GradientBoostingRegressor\n",
    "from sklearn.metrics import mean_absolute_error\n",
    "from sklearn.model_selection import train_test_split"
   ]
  },
  {
   "cell_type": "code",
   "execution_count": null,
   "id": "c99a28a1",
   "metadata": {},
   "outputs": [],
   "source": []
  }
 ],
 "metadata": {
  "kernelspec": {
   "display_name": "Python 3 (ipykernel)",
   "language": "python",
   "name": "python3"
  },
  "language_info": {
   "codemirror_mode": {
    "name": "ipython",
    "version": 3
   },
   "file_extension": ".py",
   "mimetype": "text/x-python",
   "name": "python",
   "nbconvert_exporter": "python",
   "pygments_lexer": "ipython3",
   "version": "3.11.5"
  }
 },
 "nbformat": 4,
 "nbformat_minor": 5
}
